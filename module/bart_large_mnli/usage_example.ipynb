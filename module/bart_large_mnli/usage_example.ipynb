{
 "cells": [
  {
   "cell_type": "code",
   "execution_count": 1,
   "metadata": {},
   "outputs": [],
   "source": [
    "from transformers import AutoModelForSequenceClassification, AutoTokenizer, pipeline\n",
    "import torch\n",
    "# from datasets import Dataset"
   ]
  },
  {
   "cell_type": "code",
   "execution_count": 2,
   "metadata": {},
   "outputs": [],
   "source": [
    "cache_dir = '/home/zungwooker/Debiasing/pretrained/bart'"
   ]
  },
  {
   "cell_type": "code",
   "execution_count": 3,
   "metadata": {},
   "outputs": [],
   "source": [
    "model = AutoModelForSequenceClassification.from_pretrained(\"facebook/bart-large-mnli\", cache_dir=cache_dir)\n",
    "device = torch.device(f'cuda:0' if torch.cuda.is_available() else 'cpu')\n",
    "model = model.to(device)\n",
    "tokenizer = AutoTokenizer.from_pretrained(\"facebook/bart-large-mnli\", cache_dir=cache_dir)"
   ]
  },
  {
   "cell_type": "code",
   "execution_count": 4,
   "metadata": {},
   "outputs": [],
   "source": [
    "classifier = pipeline(\"zero-shot-classification\", model=model, tokenizer=tokenizer, device=device)"
   ]
  },
  {
   "cell_type": "code",
   "execution_count": 5,
   "metadata": {},
   "outputs": [
    {
     "name": "stderr",
     "output_type": "stream",
     "text": [
      "/home/zungwooker/anaconda3/envs/gene/lib/python3.9/site-packages/torch/utils/data/dataloader.py:693: UserWarning: Length of IterableDataset <transformers.pipelines.pt_utils.PipelineChunkIterator object at 0x7f32649c68e0> was reported to be 10 (when accessing len(dataloader)), but 11 samples have been fetched. \n",
      "  warnings.warn(warn_msg)\n",
      "/home/zungwooker/anaconda3/envs/gene/lib/python3.9/site-packages/torch/utils/data/dataloader.py:693: UserWarning: Length of IterableDataset <transformers.pipelines.pt_utils.PipelineChunkIterator object at 0x7f32649c68e0> was reported to be 10 (when accessing len(dataloader)), but 12 samples have been fetched. \n",
      "  warnings.warn(warn_msg)\n",
      "/home/zungwooker/anaconda3/envs/gene/lib/python3.9/site-packages/torch/utils/data/dataloader.py:693: UserWarning: Length of IterableDataset <transformers.pipelines.pt_utils.PipelineChunkIterator object at 0x7f32649c68e0> was reported to be 10 (when accessing len(dataloader)), but 13 samples have been fetched. \n",
      "  warnings.warn(warn_msg)\n",
      "/home/zungwooker/anaconda3/envs/gene/lib/python3.9/site-packages/torch/utils/data/dataloader.py:693: UserWarning: Length of IterableDataset <transformers.pipelines.pt_utils.PipelineChunkIterator object at 0x7f32649c68e0> was reported to be 10 (when accessing len(dataloader)), but 14 samples have been fetched. \n",
      "  warnings.warn(warn_msg)\n",
      "/home/zungwooker/anaconda3/envs/gene/lib/python3.9/site-packages/torch/utils/data/dataloader.py:693: UserWarning: Length of IterableDataset <transformers.pipelines.pt_utils.PipelineChunkIterator object at 0x7f32649c68e0> was reported to be 10 (when accessing len(dataloader)), but 15 samples have been fetched. \n",
      "  warnings.warn(warn_msg)\n",
      "/home/zungwooker/anaconda3/envs/gene/lib/python3.9/site-packages/torch/utils/data/dataloader.py:693: UserWarning: Length of IterableDataset <transformers.pipelines.pt_utils.PipelineChunkIterator object at 0x7f32649c68e0> was reported to be 10 (when accessing len(dataloader)), but 16 samples have been fetched. \n",
      "  warnings.warn(warn_msg)\n",
      "/home/zungwooker/anaconda3/envs/gene/lib/python3.9/site-packages/torch/utils/data/dataloader.py:693: UserWarning: Length of IterableDataset <transformers.pipelines.pt_utils.PipelineChunkIterator object at 0x7f32649c68e0> was reported to be 10 (when accessing len(dataloader)), but 17 samples have been fetched. \n",
      "  warnings.warn(warn_msg)\n",
      "/home/zungwooker/anaconda3/envs/gene/lib/python3.9/site-packages/torch/utils/data/dataloader.py:693: UserWarning: Length of IterableDataset <transformers.pipelines.pt_utils.PipelineChunkIterator object at 0x7f32649c68e0> was reported to be 10 (when accessing len(dataloader)), but 18 samples have been fetched. \n",
      "  warnings.warn(warn_msg)\n",
      "/home/zungwooker/anaconda3/envs/gene/lib/python3.9/site-packages/torch/utils/data/dataloader.py:693: UserWarning: Length of IterableDataset <transformers.pipelines.pt_utils.PipelineChunkIterator object at 0x7f32649c68e0> was reported to be 10 (when accessing len(dataloader)), but 19 samples have been fetched. \n",
      "  warnings.warn(warn_msg)\n",
      "/home/zungwooker/anaconda3/envs/gene/lib/python3.9/site-packages/torch/utils/data/dataloader.py:693: UserWarning: Length of IterableDataset <transformers.pipelines.pt_utils.PipelineChunkIterator object at 0x7f32649c68e0> was reported to be 10 (when accessing len(dataloader)), but 20 samples have been fetched. \n",
      "  warnings.warn(warn_msg)\n",
      "/home/zungwooker/anaconda3/envs/gene/lib/python3.9/site-packages/torch/utils/data/dataloader.py:693: UserWarning: Length of IterableDataset <transformers.pipelines.pt_utils.PipelineChunkIterator object at 0x7f32649c68e0> was reported to be 10 (when accessing len(dataloader)), but 21 samples have been fetched. \n",
      "  warnings.warn(warn_msg)\n",
      "/home/zungwooker/anaconda3/envs/gene/lib/python3.9/site-packages/torch/utils/data/dataloader.py:693: UserWarning: Length of IterableDataset <transformers.pipelines.pt_utils.PipelineChunkIterator object at 0x7f32649c68e0> was reported to be 10 (when accessing len(dataloader)), but 22 samples have been fetched. \n",
      "  warnings.warn(warn_msg)\n",
      "/home/zungwooker/anaconda3/envs/gene/lib/python3.9/site-packages/torch/utils/data/dataloader.py:693: UserWarning: Length of IterableDataset <transformers.pipelines.pt_utils.PipelineChunkIterator object at 0x7f32649c68e0> was reported to be 10 (when accessing len(dataloader)), but 23 samples have been fetched. \n",
      "  warnings.warn(warn_msg)\n",
      "/home/zungwooker/anaconda3/envs/gene/lib/python3.9/site-packages/torch/utils/data/dataloader.py:693: UserWarning: Length of IterableDataset <transformers.pipelines.pt_utils.PipelineChunkIterator object at 0x7f32649c68e0> was reported to be 10 (when accessing len(dataloader)), but 24 samples have been fetched. \n",
      "  warnings.warn(warn_msg)\n",
      "/home/zungwooker/anaconda3/envs/gene/lib/python3.9/site-packages/torch/utils/data/dataloader.py:693: UserWarning: Length of IterableDataset <transformers.pipelines.pt_utils.PipelineChunkIterator object at 0x7f32649c68e0> was reported to be 10 (when accessing len(dataloader)), but 25 samples have been fetched. \n",
      "  warnings.warn(warn_msg)\n",
      "/home/zungwooker/anaconda3/envs/gene/lib/python3.9/site-packages/torch/utils/data/dataloader.py:693: UserWarning: Length of IterableDataset <transformers.pipelines.pt_utils.PipelineChunkIterator object at 0x7f32649c68e0> was reported to be 10 (when accessing len(dataloader)), but 26 samples have been fetched. \n",
      "  warnings.warn(warn_msg)\n",
      "/home/zungwooker/anaconda3/envs/gene/lib/python3.9/site-packages/torch/utils/data/dataloader.py:693: UserWarning: Length of IterableDataset <transformers.pipelines.pt_utils.PipelineChunkIterator object at 0x7f32649c68e0> was reported to be 10 (when accessing len(dataloader)), but 27 samples have been fetched. \n",
      "  warnings.warn(warn_msg)\n",
      "/home/zungwooker/anaconda3/envs/gene/lib/python3.9/site-packages/torch/utils/data/dataloader.py:693: UserWarning: Length of IterableDataset <transformers.pipelines.pt_utils.PipelineChunkIterator object at 0x7f32649c68e0> was reported to be 10 (when accessing len(dataloader)), but 28 samples have been fetched. \n",
      "  warnings.warn(warn_msg)\n",
      "/home/zungwooker/anaconda3/envs/gene/lib/python3.9/site-packages/torch/utils/data/dataloader.py:693: UserWarning: Length of IterableDataset <transformers.pipelines.pt_utils.PipelineChunkIterator object at 0x7f32649c68e0> was reported to be 10 (when accessing len(dataloader)), but 29 samples have been fetched. \n",
      "  warnings.warn(warn_msg)\n",
      "/home/zungwooker/anaconda3/envs/gene/lib/python3.9/site-packages/torch/utils/data/dataloader.py:693: UserWarning: Length of IterableDataset <transformers.pipelines.pt_utils.PipelineChunkIterator object at 0x7f32649c68e0> was reported to be 10 (when accessing len(dataloader)), but 30 samples have been fetched. \n",
      "  warnings.warn(warn_msg)\n",
      "/home/zungwooker/anaconda3/envs/gene/lib/python3.9/site-packages/torch/utils/data/dataloader.py:693: UserWarning: Length of IterableDataset <transformers.pipelines.pt_utils.PipelineChunkIterator object at 0x7f32649c68e0> was reported to be 10 (when accessing len(dataloader)), but 31 samples have been fetched. \n",
      "  warnings.warn(warn_msg)\n",
      "/home/zungwooker/anaconda3/envs/gene/lib/python3.9/site-packages/torch/utils/data/dataloader.py:693: UserWarning: Length of IterableDataset <transformers.pipelines.pt_utils.PipelineChunkIterator object at 0x7f32649c68e0> was reported to be 10 (when accessing len(dataloader)), but 32 samples have been fetched. \n",
      "  warnings.warn(warn_msg)\n",
      "/home/zungwooker/anaconda3/envs/gene/lib/python3.9/site-packages/torch/utils/data/dataloader.py:693: UserWarning: Length of IterableDataset <transformers.pipelines.pt_utils.PipelineChunkIterator object at 0x7f32649c68e0> was reported to be 10 (when accessing len(dataloader)), but 33 samples have been fetched. \n",
      "  warnings.warn(warn_msg)\n",
      "/home/zungwooker/anaconda3/envs/gene/lib/python3.9/site-packages/torch/utils/data/dataloader.py:693: UserWarning: Length of IterableDataset <transformers.pipelines.pt_utils.PipelineChunkIterator object at 0x7f32649c68e0> was reported to be 10 (when accessing len(dataloader)), but 34 samples have been fetched. \n",
      "  warnings.warn(warn_msg)\n",
      "/home/zungwooker/anaconda3/envs/gene/lib/python3.9/site-packages/torch/utils/data/dataloader.py:693: UserWarning: Length of IterableDataset <transformers.pipelines.pt_utils.PipelineChunkIterator object at 0x7f32649c68e0> was reported to be 10 (when accessing len(dataloader)), but 35 samples have been fetched. \n",
      "  warnings.warn(warn_msg)\n",
      "/home/zungwooker/anaconda3/envs/gene/lib/python3.9/site-packages/torch/utils/data/dataloader.py:693: UserWarning: Length of IterableDataset <transformers.pipelines.pt_utils.PipelineChunkIterator object at 0x7f32649c68e0> was reported to be 10 (when accessing len(dataloader)), but 36 samples have been fetched. \n",
      "  warnings.warn(warn_msg)\n",
      "/home/zungwooker/anaconda3/envs/gene/lib/python3.9/site-packages/torch/utils/data/dataloader.py:693: UserWarning: Length of IterableDataset <transformers.pipelines.pt_utils.PipelineChunkIterator object at 0x7f32649c68e0> was reported to be 10 (when accessing len(dataloader)), but 37 samples have been fetched. \n",
      "  warnings.warn(warn_msg)\n",
      "/home/zungwooker/anaconda3/envs/gene/lib/python3.9/site-packages/torch/utils/data/dataloader.py:693: UserWarning: Length of IterableDataset <transformers.pipelines.pt_utils.PipelineChunkIterator object at 0x7f32649c68e0> was reported to be 10 (when accessing len(dataloader)), but 38 samples have been fetched. \n",
      "  warnings.warn(warn_msg)\n",
      "/home/zungwooker/anaconda3/envs/gene/lib/python3.9/site-packages/torch/utils/data/dataloader.py:693: UserWarning: Length of IterableDataset <transformers.pipelines.pt_utils.PipelineChunkIterator object at 0x7f32649c68e0> was reported to be 10 (when accessing len(dataloader)), but 39 samples have been fetched. \n",
      "  warnings.warn(warn_msg)\n",
      "/home/zungwooker/anaconda3/envs/gene/lib/python3.9/site-packages/torch/utils/data/dataloader.py:693: UserWarning: Length of IterableDataset <transformers.pipelines.pt_utils.PipelineChunkIterator object at 0x7f32649c68e0> was reported to be 10 (when accessing len(dataloader)), but 40 samples have been fetched. \n",
      "  warnings.warn(warn_msg)\n",
      "/home/zungwooker/anaconda3/envs/gene/lib/python3.9/site-packages/torch/utils/data/dataloader.py:693: UserWarning: Length of IterableDataset <transformers.pipelines.pt_utils.PipelineChunkIterator object at 0x7f32649c68e0> was reported to be 10 (when accessing len(dataloader)), but 41 samples have been fetched. \n",
      "  warnings.warn(warn_msg)\n",
      "/home/zungwooker/anaconda3/envs/gene/lib/python3.9/site-packages/torch/utils/data/dataloader.py:693: UserWarning: Length of IterableDataset <transformers.pipelines.pt_utils.PipelineChunkIterator object at 0x7f32649c68e0> was reported to be 10 (when accessing len(dataloader)), but 42 samples have been fetched. \n",
      "  warnings.warn(warn_msg)\n",
      "/home/zungwooker/anaconda3/envs/gene/lib/python3.9/site-packages/torch/utils/data/dataloader.py:693: UserWarning: Length of IterableDataset <transformers.pipelines.pt_utils.PipelineChunkIterator object at 0x7f32649c68e0> was reported to be 10 (when accessing len(dataloader)), but 43 samples have been fetched. \n",
      "  warnings.warn(warn_msg)\n",
      "/home/zungwooker/anaconda3/envs/gene/lib/python3.9/site-packages/torch/utils/data/dataloader.py:693: UserWarning: Length of IterableDataset <transformers.pipelines.pt_utils.PipelineChunkIterator object at 0x7f32649c68e0> was reported to be 10 (when accessing len(dataloader)), but 44 samples have been fetched. \n",
      "  warnings.warn(warn_msg)\n",
      "/home/zungwooker/anaconda3/envs/gene/lib/python3.9/site-packages/torch/utils/data/dataloader.py:693: UserWarning: Length of IterableDataset <transformers.pipelines.pt_utils.PipelineChunkIterator object at 0x7f32649c68e0> was reported to be 10 (when accessing len(dataloader)), but 45 samples have been fetched. \n",
      "  warnings.warn(warn_msg)\n",
      "/home/zungwooker/anaconda3/envs/gene/lib/python3.9/site-packages/torch/utils/data/dataloader.py:693: UserWarning: Length of IterableDataset <transformers.pipelines.pt_utils.PipelineChunkIterator object at 0x7f32649c68e0> was reported to be 10 (when accessing len(dataloader)), but 46 samples have been fetched. \n",
      "  warnings.warn(warn_msg)\n",
      "/home/zungwooker/anaconda3/envs/gene/lib/python3.9/site-packages/torch/utils/data/dataloader.py:693: UserWarning: Length of IterableDataset <transformers.pipelines.pt_utils.PipelineChunkIterator object at 0x7f32649c68e0> was reported to be 10 (when accessing len(dataloader)), but 47 samples have been fetched. \n",
      "  warnings.warn(warn_msg)\n",
      "/home/zungwooker/anaconda3/envs/gene/lib/python3.9/site-packages/torch/utils/data/dataloader.py:693: UserWarning: Length of IterableDataset <transformers.pipelines.pt_utils.PipelineChunkIterator object at 0x7f32649c68e0> was reported to be 10 (when accessing len(dataloader)), but 48 samples have been fetched. \n",
      "  warnings.warn(warn_msg)\n",
      "/home/zungwooker/anaconda3/envs/gene/lib/python3.9/site-packages/torch/utils/data/dataloader.py:693: UserWarning: Length of IterableDataset <transformers.pipelines.pt_utils.PipelineChunkIterator object at 0x7f32649c68e0> was reported to be 10 (when accessing len(dataloader)), but 49 samples have been fetched. \n",
      "  warnings.warn(warn_msg)\n",
      "/home/zungwooker/anaconda3/envs/gene/lib/python3.9/site-packages/torch/utils/data/dataloader.py:693: UserWarning: Length of IterableDataset <transformers.pipelines.pt_utils.PipelineChunkIterator object at 0x7f32649c68e0> was reported to be 10 (when accessing len(dataloader)), but 50 samples have been fetched. \n",
      "  warnings.warn(warn_msg)\n",
      "/home/zungwooker/anaconda3/envs/gene/lib/python3.9/site-packages/torch/utils/data/dataloader.py:693: UserWarning: Length of IterableDataset <transformers.pipelines.pt_utils.PipelineChunkIterator object at 0x7f32649c68e0> was reported to be 10 (when accessing len(dataloader)), but 51 samples have been fetched. \n",
      "  warnings.warn(warn_msg)\n",
      "/home/zungwooker/anaconda3/envs/gene/lib/python3.9/site-packages/torch/utils/data/dataloader.py:693: UserWarning: Length of IterableDataset <transformers.pipelines.pt_utils.PipelineChunkIterator object at 0x7f32649c68e0> was reported to be 10 (when accessing len(dataloader)), but 52 samples have been fetched. \n",
      "  warnings.warn(warn_msg)\n",
      "/home/zungwooker/anaconda3/envs/gene/lib/python3.9/site-packages/torch/utils/data/dataloader.py:693: UserWarning: Length of IterableDataset <transformers.pipelines.pt_utils.PipelineChunkIterator object at 0x7f32649c68e0> was reported to be 10 (when accessing len(dataloader)), but 53 samples have been fetched. \n",
      "  warnings.warn(warn_msg)\n",
      "/home/zungwooker/anaconda3/envs/gene/lib/python3.9/site-packages/torch/utils/data/dataloader.py:693: UserWarning: Length of IterableDataset <transformers.pipelines.pt_utils.PipelineChunkIterator object at 0x7f32649c68e0> was reported to be 10 (when accessing len(dataloader)), but 54 samples have been fetched. \n",
      "  warnings.warn(warn_msg)\n",
      "/home/zungwooker/anaconda3/envs/gene/lib/python3.9/site-packages/torch/utils/data/dataloader.py:693: UserWarning: Length of IterableDataset <transformers.pipelines.pt_utils.PipelineChunkIterator object at 0x7f32649c68e0> was reported to be 10 (when accessing len(dataloader)), but 55 samples have been fetched. \n",
      "  warnings.warn(warn_msg)\n",
      "/home/zungwooker/anaconda3/envs/gene/lib/python3.9/site-packages/torch/utils/data/dataloader.py:693: UserWarning: Length of IterableDataset <transformers.pipelines.pt_utils.PipelineChunkIterator object at 0x7f32649c68e0> was reported to be 10 (when accessing len(dataloader)), but 56 samples have been fetched. \n",
      "  warnings.warn(warn_msg)\n",
      "/home/zungwooker/anaconda3/envs/gene/lib/python3.9/site-packages/torch/utils/data/dataloader.py:693: UserWarning: Length of IterableDataset <transformers.pipelines.pt_utils.PipelineChunkIterator object at 0x7f32649c68e0> was reported to be 10 (when accessing len(dataloader)), but 57 samples have been fetched. \n",
      "  warnings.warn(warn_msg)\n",
      "/home/zungwooker/anaconda3/envs/gene/lib/python3.9/site-packages/torch/utils/data/dataloader.py:693: UserWarning: Length of IterableDataset <transformers.pipelines.pt_utils.PipelineChunkIterator object at 0x7f32649c68e0> was reported to be 10 (when accessing len(dataloader)), but 58 samples have been fetched. \n",
      "  warnings.warn(warn_msg)\n",
      "/home/zungwooker/anaconda3/envs/gene/lib/python3.9/site-packages/torch/utils/data/dataloader.py:693: UserWarning: Length of IterableDataset <transformers.pipelines.pt_utils.PipelineChunkIterator object at 0x7f32649c68e0> was reported to be 10 (when accessing len(dataloader)), but 59 samples have been fetched. \n",
      "  warnings.warn(warn_msg)\n",
      "/home/zungwooker/anaconda3/envs/gene/lib/python3.9/site-packages/torch/utils/data/dataloader.py:693: UserWarning: Length of IterableDataset <transformers.pipelines.pt_utils.PipelineChunkIterator object at 0x7f32649c68e0> was reported to be 10 (when accessing len(dataloader)), but 60 samples have been fetched. \n",
      "  warnings.warn(warn_msg)\n",
      "/home/zungwooker/anaconda3/envs/gene/lib/python3.9/site-packages/torch/utils/data/dataloader.py:693: UserWarning: Length of IterableDataset <transformers.pipelines.pt_utils.PipelineChunkIterator object at 0x7f32649c68e0> was reported to be 10 (when accessing len(dataloader)), but 61 samples have been fetched. \n",
      "  warnings.warn(warn_msg)\n",
      "/home/zungwooker/anaconda3/envs/gene/lib/python3.9/site-packages/torch/utils/data/dataloader.py:693: UserWarning: Length of IterableDataset <transformers.pipelines.pt_utils.PipelineChunkIterator object at 0x7f32649c68e0> was reported to be 10 (when accessing len(dataloader)), but 62 samples have been fetched. \n",
      "  warnings.warn(warn_msg)\n",
      "/home/zungwooker/anaconda3/envs/gene/lib/python3.9/site-packages/torch/utils/data/dataloader.py:693: UserWarning: Length of IterableDataset <transformers.pipelines.pt_utils.PipelineChunkIterator object at 0x7f32649c68e0> was reported to be 10 (when accessing len(dataloader)), but 63 samples have been fetched. \n",
      "  warnings.warn(warn_msg)\n",
      "/home/zungwooker/anaconda3/envs/gene/lib/python3.9/site-packages/torch/utils/data/dataloader.py:693: UserWarning: Length of IterableDataset <transformers.pipelines.pt_utils.PipelineChunkIterator object at 0x7f32649c68e0> was reported to be 10 (when accessing len(dataloader)), but 64 samples have been fetched. \n",
      "  warnings.warn(warn_msg)\n",
      "/home/zungwooker/anaconda3/envs/gene/lib/python3.9/site-packages/torch/utils/data/dataloader.py:693: UserWarning: Length of IterableDataset <transformers.pipelines.pt_utils.PipelineChunkIterator object at 0x7f32649c68e0> was reported to be 10 (when accessing len(dataloader)), but 65 samples have been fetched. \n",
      "  warnings.warn(warn_msg)\n",
      "/home/zungwooker/anaconda3/envs/gene/lib/python3.9/site-packages/torch/utils/data/dataloader.py:693: UserWarning: Length of IterableDataset <transformers.pipelines.pt_utils.PipelineChunkIterator object at 0x7f32649c68e0> was reported to be 10 (when accessing len(dataloader)), but 66 samples have been fetched. \n",
      "  warnings.warn(warn_msg)\n",
      "/home/zungwooker/anaconda3/envs/gene/lib/python3.9/site-packages/torch/utils/data/dataloader.py:693: UserWarning: Length of IterableDataset <transformers.pipelines.pt_utils.PipelineChunkIterator object at 0x7f32649c68e0> was reported to be 10 (when accessing len(dataloader)), but 67 samples have been fetched. \n",
      "  warnings.warn(warn_msg)\n",
      "/home/zungwooker/anaconda3/envs/gene/lib/python3.9/site-packages/torch/utils/data/dataloader.py:693: UserWarning: Length of IterableDataset <transformers.pipelines.pt_utils.PipelineChunkIterator object at 0x7f32649c68e0> was reported to be 10 (when accessing len(dataloader)), but 68 samples have been fetched. \n",
      "  warnings.warn(warn_msg)\n",
      "/home/zungwooker/anaconda3/envs/gene/lib/python3.9/site-packages/torch/utils/data/dataloader.py:693: UserWarning: Length of IterableDataset <transformers.pipelines.pt_utils.PipelineChunkIterator object at 0x7f32649c68e0> was reported to be 10 (when accessing len(dataloader)), but 69 samples have been fetched. \n",
      "  warnings.warn(warn_msg)\n",
      "/home/zungwooker/anaconda3/envs/gene/lib/python3.9/site-packages/torch/utils/data/dataloader.py:693: UserWarning: Length of IterableDataset <transformers.pipelines.pt_utils.PipelineChunkIterator object at 0x7f32649c68e0> was reported to be 10 (when accessing len(dataloader)), but 70 samples have been fetched. \n",
      "  warnings.warn(warn_msg)\n",
      "/home/zungwooker/anaconda3/envs/gene/lib/python3.9/site-packages/torch/utils/data/dataloader.py:693: UserWarning: Length of IterableDataset <transformers.pipelines.pt_utils.PipelineChunkIterator object at 0x7f32649c68e0> was reported to be 10 (when accessing len(dataloader)), but 71 samples have been fetched. \n",
      "  warnings.warn(warn_msg)\n",
      "/home/zungwooker/anaconda3/envs/gene/lib/python3.9/site-packages/torch/utils/data/dataloader.py:693: UserWarning: Length of IterableDataset <transformers.pipelines.pt_utils.PipelineChunkIterator object at 0x7f32649c68e0> was reported to be 10 (when accessing len(dataloader)), but 72 samples have been fetched. \n",
      "  warnings.warn(warn_msg)\n",
      "/home/zungwooker/anaconda3/envs/gene/lib/python3.9/site-packages/torch/utils/data/dataloader.py:693: UserWarning: Length of IterableDataset <transformers.pipelines.pt_utils.PipelineChunkIterator object at 0x7f32649c68e0> was reported to be 10 (when accessing len(dataloader)), but 73 samples have been fetched. \n",
      "  warnings.warn(warn_msg)\n",
      "/home/zungwooker/anaconda3/envs/gene/lib/python3.9/site-packages/torch/utils/data/dataloader.py:693: UserWarning: Length of IterableDataset <transformers.pipelines.pt_utils.PipelineChunkIterator object at 0x7f32649c68e0> was reported to be 10 (when accessing len(dataloader)), but 74 samples have been fetched. \n",
      "  warnings.warn(warn_msg)\n",
      "/home/zungwooker/anaconda3/envs/gene/lib/python3.9/site-packages/torch/utils/data/dataloader.py:693: UserWarning: Length of IterableDataset <transformers.pipelines.pt_utils.PipelineChunkIterator object at 0x7f32649c68e0> was reported to be 10 (when accessing len(dataloader)), but 75 samples have been fetched. \n",
      "  warnings.warn(warn_msg)\n",
      "/home/zungwooker/anaconda3/envs/gene/lib/python3.9/site-packages/torch/utils/data/dataloader.py:693: UserWarning: Length of IterableDataset <transformers.pipelines.pt_utils.PipelineChunkIterator object at 0x7f32649c68e0> was reported to be 10 (when accessing len(dataloader)), but 76 samples have been fetched. \n",
      "  warnings.warn(warn_msg)\n",
      "/home/zungwooker/anaconda3/envs/gene/lib/python3.9/site-packages/torch/utils/data/dataloader.py:693: UserWarning: Length of IterableDataset <transformers.pipelines.pt_utils.PipelineChunkIterator object at 0x7f32649c68e0> was reported to be 10 (when accessing len(dataloader)), but 77 samples have been fetched. \n",
      "  warnings.warn(warn_msg)\n",
      "/home/zungwooker/anaconda3/envs/gene/lib/python3.9/site-packages/torch/utils/data/dataloader.py:693: UserWarning: Length of IterableDataset <transformers.pipelines.pt_utils.PipelineChunkIterator object at 0x7f32649c68e0> was reported to be 10 (when accessing len(dataloader)), but 78 samples have been fetched. \n",
      "  warnings.warn(warn_msg)\n",
      "/home/zungwooker/anaconda3/envs/gene/lib/python3.9/site-packages/torch/utils/data/dataloader.py:693: UserWarning: Length of IterableDataset <transformers.pipelines.pt_utils.PipelineChunkIterator object at 0x7f32649c68e0> was reported to be 10 (when accessing len(dataloader)), but 79 samples have been fetched. \n",
      "  warnings.warn(warn_msg)\n",
      "/home/zungwooker/anaconda3/envs/gene/lib/python3.9/site-packages/torch/utils/data/dataloader.py:693: UserWarning: Length of IterableDataset <transformers.pipelines.pt_utils.PipelineChunkIterator object at 0x7f32649c68e0> was reported to be 10 (when accessing len(dataloader)), but 80 samples have been fetched. \n",
      "  warnings.warn(warn_msg)\n",
      "/home/zungwooker/anaconda3/envs/gene/lib/python3.9/site-packages/torch/utils/data/dataloader.py:693: UserWarning: Length of IterableDataset <transformers.pipelines.pt_utils.PipelineChunkIterator object at 0x7f32649c68e0> was reported to be 10 (when accessing len(dataloader)), but 81 samples have been fetched. \n",
      "  warnings.warn(warn_msg)\n",
      "/home/zungwooker/anaconda3/envs/gene/lib/python3.9/site-packages/torch/utils/data/dataloader.py:693: UserWarning: Length of IterableDataset <transformers.pipelines.pt_utils.PipelineChunkIterator object at 0x7f32649c68e0> was reported to be 10 (when accessing len(dataloader)), but 82 samples have been fetched. \n",
      "  warnings.warn(warn_msg)\n",
      "/home/zungwooker/anaconda3/envs/gene/lib/python3.9/site-packages/torch/utils/data/dataloader.py:693: UserWarning: Length of IterableDataset <transformers.pipelines.pt_utils.PipelineChunkIterator object at 0x7f32649c68e0> was reported to be 10 (when accessing len(dataloader)), but 83 samples have been fetched. \n",
      "  warnings.warn(warn_msg)\n",
      "/home/zungwooker/anaconda3/envs/gene/lib/python3.9/site-packages/torch/utils/data/dataloader.py:693: UserWarning: Length of IterableDataset <transformers.pipelines.pt_utils.PipelineChunkIterator object at 0x7f32649c68e0> was reported to be 10 (when accessing len(dataloader)), but 84 samples have been fetched. \n",
      "  warnings.warn(warn_msg)\n",
      "/home/zungwooker/anaconda3/envs/gene/lib/python3.9/site-packages/torch/utils/data/dataloader.py:693: UserWarning: Length of IterableDataset <transformers.pipelines.pt_utils.PipelineChunkIterator object at 0x7f32649c68e0> was reported to be 10 (when accessing len(dataloader)), but 85 samples have been fetched. \n",
      "  warnings.warn(warn_msg)\n",
      "/home/zungwooker/anaconda3/envs/gene/lib/python3.9/site-packages/torch/utils/data/dataloader.py:693: UserWarning: Length of IterableDataset <transformers.pipelines.pt_utils.PipelineChunkIterator object at 0x7f32649c68e0> was reported to be 10 (when accessing len(dataloader)), but 86 samples have been fetched. \n",
      "  warnings.warn(warn_msg)\n",
      "/home/zungwooker/anaconda3/envs/gene/lib/python3.9/site-packages/torch/utils/data/dataloader.py:693: UserWarning: Length of IterableDataset <transformers.pipelines.pt_utils.PipelineChunkIterator object at 0x7f32649c68e0> was reported to be 10 (when accessing len(dataloader)), but 87 samples have been fetched. \n",
      "  warnings.warn(warn_msg)\n",
      "/home/zungwooker/anaconda3/envs/gene/lib/python3.9/site-packages/torch/utils/data/dataloader.py:693: UserWarning: Length of IterableDataset <transformers.pipelines.pt_utils.PipelineChunkIterator object at 0x7f32649c68e0> was reported to be 10 (when accessing len(dataloader)), but 88 samples have been fetched. \n",
      "  warnings.warn(warn_msg)\n",
      "/home/zungwooker/anaconda3/envs/gene/lib/python3.9/site-packages/torch/utils/data/dataloader.py:693: UserWarning: Length of IterableDataset <transformers.pipelines.pt_utils.PipelineChunkIterator object at 0x7f32649c68e0> was reported to be 10 (when accessing len(dataloader)), but 89 samples have been fetched. \n",
      "  warnings.warn(warn_msg)\n",
      "/home/zungwooker/anaconda3/envs/gene/lib/python3.9/site-packages/torch/utils/data/dataloader.py:693: UserWarning: Length of IterableDataset <transformers.pipelines.pt_utils.PipelineChunkIterator object at 0x7f32649c68e0> was reported to be 10 (when accessing len(dataloader)), but 90 samples have been fetched. \n",
      "  warnings.warn(warn_msg)\n",
      "/home/zungwooker/anaconda3/envs/gene/lib/python3.9/site-packages/torch/utils/data/dataloader.py:693: UserWarning: Length of IterableDataset <transformers.pipelines.pt_utils.PipelineChunkIterator object at 0x7f32649c68e0> was reported to be 10 (when accessing len(dataloader)), but 91 samples have been fetched. \n",
      "  warnings.warn(warn_msg)\n",
      "/home/zungwooker/anaconda3/envs/gene/lib/python3.9/site-packages/torch/utils/data/dataloader.py:693: UserWarning: Length of IterableDataset <transformers.pipelines.pt_utils.PipelineChunkIterator object at 0x7f32649c68e0> was reported to be 10 (when accessing len(dataloader)), but 92 samples have been fetched. \n",
      "  warnings.warn(warn_msg)\n",
      "/home/zungwooker/anaconda3/envs/gene/lib/python3.9/site-packages/torch/utils/data/dataloader.py:693: UserWarning: Length of IterableDataset <transformers.pipelines.pt_utils.PipelineChunkIterator object at 0x7f32649c68e0> was reported to be 10 (when accessing len(dataloader)), but 93 samples have been fetched. \n",
      "  warnings.warn(warn_msg)\n",
      "/home/zungwooker/anaconda3/envs/gene/lib/python3.9/site-packages/torch/utils/data/dataloader.py:693: UserWarning: Length of IterableDataset <transformers.pipelines.pt_utils.PipelineChunkIterator object at 0x7f32649c68e0> was reported to be 10 (when accessing len(dataloader)), but 94 samples have been fetched. \n",
      "  warnings.warn(warn_msg)\n",
      "/home/zungwooker/anaconda3/envs/gene/lib/python3.9/site-packages/torch/utils/data/dataloader.py:693: UserWarning: Length of IterableDataset <transformers.pipelines.pt_utils.PipelineChunkIterator object at 0x7f32649c68e0> was reported to be 10 (when accessing len(dataloader)), but 95 samples have been fetched. \n",
      "  warnings.warn(warn_msg)\n",
      "/home/zungwooker/anaconda3/envs/gene/lib/python3.9/site-packages/torch/utils/data/dataloader.py:693: UserWarning: Length of IterableDataset <transformers.pipelines.pt_utils.PipelineChunkIterator object at 0x7f32649c68e0> was reported to be 10 (when accessing len(dataloader)), but 96 samples have been fetched. \n",
      "  warnings.warn(warn_msg)\n",
      "/home/zungwooker/anaconda3/envs/gene/lib/python3.9/site-packages/torch/utils/data/dataloader.py:693: UserWarning: Length of IterableDataset <transformers.pipelines.pt_utils.PipelineChunkIterator object at 0x7f32649c68e0> was reported to be 10 (when accessing len(dataloader)), but 97 samples have been fetched. \n",
      "  warnings.warn(warn_msg)\n",
      "/home/zungwooker/anaconda3/envs/gene/lib/python3.9/site-packages/torch/utils/data/dataloader.py:693: UserWarning: Length of IterableDataset <transformers.pipelines.pt_utils.PipelineChunkIterator object at 0x7f32649c68e0> was reported to be 10 (when accessing len(dataloader)), but 98 samples have been fetched. \n",
      "  warnings.warn(warn_msg)\n",
      "/home/zungwooker/anaconda3/envs/gene/lib/python3.9/site-packages/torch/utils/data/dataloader.py:693: UserWarning: Length of IterableDataset <transformers.pipelines.pt_utils.PipelineChunkIterator object at 0x7f32649c68e0> was reported to be 10 (when accessing len(dataloader)), but 99 samples have been fetched. \n",
      "  warnings.warn(warn_msg)\n",
      "/home/zungwooker/anaconda3/envs/gene/lib/python3.9/site-packages/torch/utils/data/dataloader.py:693: UserWarning: Length of IterableDataset <transformers.pipelines.pt_utils.PipelineChunkIterator object at 0x7f32649c68e0> was reported to be 10 (when accessing len(dataloader)), but 100 samples have been fetched. \n",
      "  warnings.warn(warn_msg)\n"
     ]
    }
   ],
   "source": [
    "sequence_to_classify = ['airplane','automobile','bird','cat','deer','dog','frog','horse','ship','truck']\n",
    "candidate_labels = ['sky','park','tree','sit','field','cat','cat','person','water','street'\t]\n",
    "input_pairs = zip(sequence_to_classify, candidate_labels)\n",
    "# for p in input_pairs:\n",
    "#     res = classifier(p[0], p[1], multi_label=True)\n",
    "#     print(res['sequence'])\n",
    "#     print(res['labels'])\n",
    "#     print(res['scores'])\n",
    "res = classifier(sequence_to_classify, candidate_labels, multi_label=True)"
   ]
  },
  {
   "cell_type": "code",
   "execution_count": 12,
   "metadata": {},
   "outputs": [
    {
     "data": {
      "text/plain": [
       "0.2504567503929138"
      ]
     },
     "execution_count": 12,
     "metadata": {},
     "output_type": "execute_result"
    }
   ],
   "source": [
    "res[0]['labels'][1]\n",
    "res[0]['scores'][1]"
   ]
  },
  {
   "cell_type": "code",
   "execution_count": 28,
   "metadata": {},
   "outputs": [
    {
     "data": {
      "text/plain": [
       "['a', 'b']"
      ]
     },
     "execution_count": 28,
     "metadata": {},
     "output_type": "execute_result"
    }
   ],
   "source": [
    "a = {0: 'a', 1: 'b'}\n",
    "[value for value in a.values()]"
   ]
  },
  {
   "cell_type": "code",
   "execution_count": 20,
   "metadata": {},
   "outputs": [],
   "source": [
    "filtered_tags_all = []\n",
    "for i in range(10):\n",
    "    filtered_tags_all += [label for score, label in zip(res[i]['scores'], res[i]['labels']) if score >= 0.93]\n",
    "    \n",
    "filtered_tags_all = set(filtered_tags_all)"
   ]
  },
  {
   "cell_type": "code",
   "execution_count": 26,
   "metadata": {},
   "outputs": [
    {
     "name": "stdout",
     "output_type": "stream",
     "text": [
      "[1, 2]\n"
     ]
    }
   ],
   "source": [
    "a = set([1,2,3])\n",
    "b = set([3,4,5])\n",
    "print(list(a-b))"
   ]
  },
  {
   "cell_type": "code",
   "execution_count": 21,
   "metadata": {},
   "outputs": [
    {
     "data": {
      "text/plain": [
       "{'cat', 'sky'}"
      ]
     },
     "execution_count": 21,
     "metadata": {},
     "output_type": "execute_result"
    }
   ],
   "source": [
    "filtered_tags_all"
   ]
  },
  {
   "cell_type": "code",
   "execution_count": 22,
   "metadata": {},
   "outputs": [],
   "source": [
    "sequence_to_classify = set(['airplane','automobile','bird','cat','deer','dog','frog','horse','ship','truck']) - filtered_tags_all"
   ]
  },
  {
   "cell_type": "code",
   "execution_count": 23,
   "metadata": {},
   "outputs": [
    {
     "data": {
      "text/plain": [
       "{'airplane',\n",
       " 'automobile',\n",
       " 'bird',\n",
       " 'deer',\n",
       " 'dog',\n",
       " 'frog',\n",
       " 'horse',\n",
       " 'ship',\n",
       " 'truck'}"
      ]
     },
     "execution_count": 23,
     "metadata": {},
     "output_type": "execute_result"
    }
   ],
   "source": [
    "sequence_to_classify"
   ]
  },
  {
   "cell_type": "code",
   "execution_count": 7,
   "metadata": {},
   "outputs": [
    {
     "ename": "TypeError",
     "evalue": "list indices must be integers or slices, not str",
     "output_type": "error",
     "traceback": [
      "\u001b[0;31m---------------------------------------------------------------------------\u001b[0m",
      "\u001b[0;31mTypeError\u001b[0m                                 Traceback (most recent call last)",
      "Cell \u001b[0;32mIn[7], line 1\u001b[0m\n\u001b[0;32m----> 1\u001b[0m filtered_scores_labels \u001b[38;5;241m=\u001b[39m [(score, label) \u001b[38;5;28;01mfor\u001b[39;00m score, label \u001b[38;5;129;01min\u001b[39;00m \u001b[38;5;28mzip\u001b[39m(\u001b[43mres\u001b[49m\u001b[43m[\u001b[49m\u001b[38;5;124;43m'\u001b[39;49m\u001b[38;5;124;43mscores\u001b[39;49m\u001b[38;5;124;43m'\u001b[39;49m\u001b[43m]\u001b[49m, res[\u001b[38;5;124m'\u001b[39m\u001b[38;5;124mlabels\u001b[39m\u001b[38;5;124m'\u001b[39m]) \u001b[38;5;28;01mif\u001b[39;00m score \u001b[38;5;241m<\u001b[39m\u001b[38;5;241m=\u001b[39m \u001b[38;5;241m0.99\u001b[39m]\n\u001b[1;32m      2\u001b[0m res[\u001b[38;5;124m'\u001b[39m\u001b[38;5;124mscores\u001b[39m\u001b[38;5;124m'\u001b[39m], res[\u001b[38;5;124m'\u001b[39m\u001b[38;5;124mlabels\u001b[39m\u001b[38;5;124m'\u001b[39m] \u001b[38;5;241m=\u001b[39m \u001b[38;5;28mzip\u001b[39m(\u001b[38;5;241m*\u001b[39mfiltered_scores_labels) \u001b[38;5;28;01mif\u001b[39;00m filtered_scores_labels \u001b[38;5;28;01melse\u001b[39;00m ([], [])\n",
      "\u001b[0;31mTypeError\u001b[0m: list indices must be integers or slices, not str"
     ]
    }
   ],
   "source": [
    "filtered_scores_labels = [(score, label) for score, label in zip(res['scores'], res['labels']) if score <= 0.99]\n",
    "res['scores'], res['labels'] = zip(*filtered_scores_labels) if filtered_scores_labels else ([], [])"
   ]
  },
  {
   "cell_type": "code",
   "execution_count": null,
   "metadata": {},
   "outputs": [
    {
     "name": "stdout",
     "output_type": "stream",
     "text": [
      "A photo of young\n",
      "('girl', 'woman', 'person', 'face', 'pose', 'blue', 'love', 'hair', 'dress', 'mouse', 'laptop', 'costume', 'code', 'computer')\n",
      "(0.9812822341918945, 0.8993655443191528, 0.8792117238044739, 0.6589139699935913, 0.4070006310939789, 0.17151901125907898, 0.11285580694675446, 0.03831982612609863, 0.02029099501669407, 0.006456996314227581, 0.0019525282550603151, 0.0011518665123730898, 0.0011386561673134565, 0.0004380836326163262)\n"
     ]
    }
   ],
   "source": [
    "print(res['sequence'])\n",
    "print(res['labels'])\n",
    "print(res['scores'])"
   ]
  }
 ],
 "metadata": {
  "kernelspec": {
   "display_name": "gene",
   "language": "python",
   "name": "python3"
  },
  "language_info": {
   "codemirror_mode": {
    "name": "ipython",
    "version": 3
   },
   "file_extension": ".py",
   "mimetype": "text/x-python",
   "name": "python",
   "nbconvert_exporter": "python",
   "pygments_lexer": "ipython3",
   "version": "3.9.0"
  }
 },
 "nbformat": 4,
 "nbformat_minor": 2
}
