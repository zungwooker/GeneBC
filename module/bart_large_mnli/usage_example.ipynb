{
 "cells": [
  {
   "cell_type": "code",
   "execution_count": 1,
   "metadata": {},
   "outputs": [],
   "source": [
    "from transformers import AutoModelForSequenceClassification, AutoTokenizer, pipeline\n",
    "import torch"
   ]
  },
  {
   "cell_type": "code",
   "execution_count": 2,
   "metadata": {},
   "outputs": [],
   "source": [
    "cache_dir = './cache'"
   ]
  },
  {
   "cell_type": "code",
   "execution_count": 3,
   "metadata": {},
   "outputs": [],
   "source": [
    "model = AutoModelForSequenceClassification.from_pretrained(\"facebook/bart-large-mnli\", cache_dir=cache_dir)\n",
    "device = torch.device(f'cuda:6' if torch.cuda.is_available() else 'cpu')\n",
    "model = model.to(device)\n",
    "tokenizer = AutoTokenizer.from_pretrained(\"facebook/bart-large-mnli\", cache_dir=cache_dir)"
   ]
  },
  {
   "cell_type": "code",
   "execution_count": 4,
   "metadata": {},
   "outputs": [],
   "source": [
    "classifier = pipeline(\"zero-shot-classification\", model=model, tokenizer=tokenizer, device=device)"
   ]
  },
  {
   "cell_type": "code",
   "execution_count": 5,
   "metadata": {},
   "outputs": [
    {
     "name": "stdout",
     "output_type": "stream",
     "text": [
      "A photo of young\n",
      "['child', 'kid', 'girl', 'woman', 'person', 'face', 'pose', 'blue', 'love', 'hair', 'dress', 'mouse', 'laptop', 'costume', 'code', 'computer']\n",
      "[0.9987421035766602, 0.9986479878425598, 0.9812822341918945, 0.8993655443191528, 0.8792117238044739, 0.6589139699935913, 0.4070006310939789, 0.17151901125907898, 0.11285580694675446, 0.03831982612609863, 0.02029099501669407, 0.006456996314227581, 0.0019525282550603151, 0.0011518665123730898, 0.0011386561673134565, 0.0004380836326163262]\n"
     ]
    }
   ],
   "source": [
    "sequence_to_classify = \"A photo of young\"\n",
    "candidate_labels = [\"hair\", \"woman\", \"costume\", \"girl\", \"person\", \"face\", \"dress\", \"pose\", \"blue\", \"child\", \"kid\", \"computer\", \"laptop\", \"mouse\", \"code\", \"love\"]\n",
    "res = classifier(sequence_to_classify, candidate_labels, multi_label=True)\n",
    "print(res['sequence'])\n",
    "print(res['labels'])\n",
    "print(res['scores'])"
   ]
  },
  {
   "cell_type": "code",
   "execution_count": 6,
   "metadata": {},
   "outputs": [],
   "source": [
    "filtered_scores_labels = [(score, label) for score, label in zip(res['scores'], res['labels']) if score <= 0.99]\n",
    "res['scores'], res['labels'] = zip(*filtered_scores_labels) if filtered_scores_labels else ([], [])"
   ]
  },
  {
   "cell_type": "code",
   "execution_count": 7,
   "metadata": {},
   "outputs": [
    {
     "name": "stdout",
     "output_type": "stream",
     "text": [
      "A photo of young\n",
      "('girl', 'woman', 'person', 'face', 'pose', 'blue', 'love', 'hair', 'dress', 'mouse', 'laptop', 'costume', 'code', 'computer')\n",
      "(0.9812822341918945, 0.8993655443191528, 0.8792117238044739, 0.6589139699935913, 0.4070006310939789, 0.17151901125907898, 0.11285580694675446, 0.03831982612609863, 0.02029099501669407, 0.006456996314227581, 0.0019525282550603151, 0.0011518665123730898, 0.0011386561673134565, 0.0004380836326163262)\n"
     ]
    }
   ],
   "source": [
    "print(res['sequence'])\n",
    "print(res['labels'])\n",
    "print(res['scores'])"
   ]
  }
 ],
 "metadata": {
  "kernelspec": {
   "display_name": "gene",
   "language": "python",
   "name": "python3"
  },
  "language_info": {
   "codemirror_mode": {
    "name": "ipython",
    "version": 3
   },
   "file_extension": ".py",
   "mimetype": "text/x-python",
   "name": "python",
   "nbconvert_exporter": "python",
   "pygments_lexer": "ipython3",
   "version": "3.9.0"
  }
 },
 "nbformat": 4,
 "nbformat_minor": 2
}
